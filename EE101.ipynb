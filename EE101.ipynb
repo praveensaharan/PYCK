{
  "nbformat": 4,
  "nbformat_minor": 0,
  "metadata": {
    "colab": {
      "name": "Untitled4.ipynb",
      "provenance": [],
      "authorship_tag": "ABX9TyMetZQCyMdkvO/p5R9dFubh",
      "include_colab_link": true
    },
    "kernelspec": {
      "name": "python3",
      "display_name": "Python 3"
    },
    "language_info": {
      "name": "python"
    }
  },
  "cells": [
    {
      "cell_type": "markdown",
      "metadata": {
        "id": "view-in-github",
        "colab_type": "text"
      },
      "source": [
        "<a href=\"https://colab.research.google.com/github/praveensaharan/PYCK/blob/main/EE101.ipynb\" target=\"_parent\"><img src=\"https://colab.research.google.com/assets/colab-badge.svg\" alt=\"Open In Colab\"/></a>"
      ]
    },
    {
      "cell_type": "code",
      "metadata": {
        "colab": {
          "base_uri": "https://localhost:8080/",
          "height": 313
        },
        "id": "06xA1XjmjzzX",
        "outputId": "2ae9f4f6-99e0-4c22-8fcd-e00c19984d57"
      },
      "source": [
        "import matplotlib.pyplot as plt\n",
        "import numpy as np\n",
        "import math\n",
        "\n",
        "Omega1 = 1\n",
        "Omega = []\n",
        "temp = Omega1\n",
        "for i in range(0, 7):\n",
        "  Omega.append( temp )\n",
        "  temp *= 10\n",
        "\n",
        "\n",
        "X = []\n",
        "Mag = []\n",
        "for i in range(0,7):\n",
        "  X.append(i)\n",
        "  wRC2 = (Omega[i] * 1000 * (10**(-6))  ) ** 2\n",
        "  den = 1 + wRC2\n",
        "  a = 1/den\n",
        "  T = 20 * math.log10(a)\n",
        "  Mag.append(T)\n",
        "  \n",
        "\n",
        "\n",
        "plt.plot(X, Mag)\n",
        "plt.xlabel(\"frequency 10^\")\n",
        "plt.ylabel(\"Gain\")\n",
        "plt.title(\"Gain Plot\")"
      ],
      "execution_count": 1,
      "outputs": [
        {
          "output_type": "execute_result",
          "data": {
            "text/plain": [
              "Text(0.5, 1.0, 'Gain Plot')"
            ]
          },
          "metadata": {
            "tags": []
          },
          "execution_count": 1
        },
        {
          "output_type": "display_data",
          "data": {
            "image/png": "[encoded data removed]",
            "text/plain": [
              "<Figure size 432x288 with 1 Axes>"
            ]
          },
          "metadata": {
            "tags": [],
            "needs_background": "light"
          }
        }
      ]
    },
    {
      "cell_type": "code",
      "metadata": {
        "id": "ZO8ybf4Gj5U9"
      },
      "source": [
        ""
      ],
      "execution_count": null,
      "outputs": []
    }
  ]
}